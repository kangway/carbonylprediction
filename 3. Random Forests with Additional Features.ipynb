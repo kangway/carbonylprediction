{
 "cells": [
  {
   "cell_type": "markdown",
   "metadata": {},
   "source": [
    "3.1 Random Forests with More Features\n",
    "---"
   ]
  },
  {
   "cell_type": "markdown",
   "metadata": {},
   "source": [
    "In order to improve classification accuracy, the remainder of the collected features were incorporated into the dataset, primarily consisting of molecular formula. Given the varying baseline of the considered carbonyl classes, it was expected that improved classification rates should be obtainable with these additional features. For example, both acid and ester groups necessarily contain at least two oxygen atoms, whereas amides necessarily contain one nitrogen, and acid chlorides contain at least one chloride. The interspersion of aldehydes and ketones, however, was expected to remain a challenging distinction given that molecular formula alone cannot dinstiguish between two constitutional isomers.\n",
    "\n",
    "An 80/20 training/test split was similarly employed with feature normalization applied based on the training set and processed through a random forests classifier as before. Similarly, a confusion matrix showing the results of the 20% test set is plotted, along with a bar graph illustration features importances calculated from the random forest fit."
   ]
  },
  {
   "cell_type": "code",
   "execution_count": 1,
   "metadata": {
    "collapsed": true
   },
   "outputs": [],
   "source": [
    "from matplotlib import pyplot as plt\n",
    "import numpy as np\n",
    "import pandas as pd\n",
    "import sklearn as sk\n",
    "from sklearn.metrics import confusion_matrix\n",
    "from sklearn.ensemble import RandomForestClassifier\n",
    "from sklearn import preprocessing\n",
    "import plot_utils\n",
    "\n",
    "DATA_PATH = \"Data/carbonyl.csv\"\n",
    "# Provide dictionary for label codes\n",
    "LABEL_DICT = {0: 'ketone', 1: 'aldehyde', 2: 'ester', 3: 'amide', 4: 'acid', 5:'acid chloride'}\n",
    "\n",
    "# Load carbonyl datafile as Pandas dataframe\n",
    "carb_df = pd.read_csv(DATA_PATH)\n"
   ]
  },
  {
   "cell_type": "markdown",
   "metadata": {},
   "source": [
    "### Adding some additional features and feature engineering\n",
    "\n",
    "See if the classification accuracy increases with more features, specifically, parsed formula"
   ]
  },
  {
   "cell_type": "code",
   "execution_count": 2,
   "metadata": {
    "collapsed": true
   },
   "outputs": [],
   "source": [
    "# TODO: need to clean up quick formula parsing implementation\n",
    "import formulas\n",
    "\n",
    "list_dict = []\n",
    "for formula in carb_df['Formula']:\n",
    "    list_dict.append(formulas.parseFormula(formula))"
   ]
  },
  {
   "cell_type": "code",
   "execution_count": 3,
   "metadata": {
    "collapsed": true
   },
   "outputs": [],
   "source": [
    "# Create pandas df\n",
    "atom_df = pd.DataFrame(list_dict)"
   ]
  },
  {
   "cell_type": "code",
   "execution_count": 4,
   "metadata": {
    "collapsed": true
   },
   "outputs": [],
   "source": [
    "# Join DataFrames and fill NaNs with 0's\n",
    "new_df = carb_df.join(atom_df).fillna(0)"
   ]
  },
  {
   "cell_type": "code",
   "execution_count": 5,
   "metadata": {},
   "outputs": [
    {
     "data": {
      "text/html": [
       "<div>\n",
       "<style>\n",
       "    .dataframe thead tr:only-child th {\n",
       "        text-align: right;\n",
       "    }\n",
       "\n",
       "    .dataframe thead th {\n",
       "        text-align: left;\n",
       "    }\n",
       "\n",
       "    .dataframe tbody tr th {\n",
       "        vertical-align: top;\n",
       "    }\n",
       "</style>\n",
       "<table border=\"1\" class=\"dataframe\">\n",
       "  <thead>\n",
       "    <tr style=\"text-align: right;\">\n",
       "      <th></th>\n",
       "      <th>Name</th>\n",
       "      <th>CAS</th>\n",
       "      <th>Formula</th>\n",
       "      <th>SMILES</th>\n",
       "      <th>Carbon</th>\n",
       "      <th>Infrared</th>\n",
       "      <th>Label</th>\n",
       "      <th>Br</th>\n",
       "      <th>C</th>\n",
       "      <th>Cl</th>\n",
       "      <th>F</th>\n",
       "      <th>H</th>\n",
       "      <th>N</th>\n",
       "      <th>O</th>\n",
       "      <th>S</th>\n",
       "    </tr>\n",
       "  </thead>\n",
       "  <tbody>\n",
       "    <tr>\n",
       "      <th>0</th>\n",
       "      <td>(+-)-2-chloropropionamide</td>\n",
       "      <td>27816-36-0</td>\n",
       "      <td>C3H6ClNO</td>\n",
       "      <td>CC(C(=O)N)Cl</td>\n",
       "      <td>172.9</td>\n",
       "      <td>1642</td>\n",
       "      <td>3</td>\n",
       "      <td>0.0</td>\n",
       "      <td>3</td>\n",
       "      <td>1.0</td>\n",
       "      <td>0.0</td>\n",
       "      <td>6.0</td>\n",
       "      <td>1.0</td>\n",
       "      <td>1</td>\n",
       "      <td>0.0</td>\n",
       "    </tr>\n",
       "    <tr>\n",
       "      <th>1</th>\n",
       "      <td>(+-)-2-methylbutyryl chloride</td>\n",
       "      <td>57526-28-0</td>\n",
       "      <td>C5H9ClO</td>\n",
       "      <td>CCC(C)C(=O)Cl</td>\n",
       "      <td>177.5</td>\n",
       "      <td>1793</td>\n",
       "      <td>5</td>\n",
       "      <td>0.0</td>\n",
       "      <td>5</td>\n",
       "      <td>1.0</td>\n",
       "      <td>0.0</td>\n",
       "      <td>9.0</td>\n",
       "      <td>0.0</td>\n",
       "      <td>1</td>\n",
       "      <td>0.0</td>\n",
       "    </tr>\n",
       "    <tr>\n",
       "      <th>2</th>\n",
       "      <td>(+-)-mevalonic acid delta-lactone</td>\n",
       "      <td>674-26-0</td>\n",
       "      <td>C6H10O3</td>\n",
       "      <td>CC1(CCOC(=O)C1)O</td>\n",
       "      <td>171.5</td>\n",
       "      <td>1721</td>\n",
       "      <td>2</td>\n",
       "      <td>0.0</td>\n",
       "      <td>6</td>\n",
       "      <td>0.0</td>\n",
       "      <td>0.0</td>\n",
       "      <td>10.0</td>\n",
       "      <td>0.0</td>\n",
       "      <td>3</td>\n",
       "      <td>0.0</td>\n",
       "    </tr>\n",
       "    <tr>\n",
       "      <th>3</th>\n",
       "      <td>(1R)-(-)-myrtenal</td>\n",
       "      <td>564-94-3</td>\n",
       "      <td>C10H14O</td>\n",
       "      <td>CC1(C2CC=C(C1C2)C=O)C</td>\n",
       "      <td>191.3</td>\n",
       "      <td>1679</td>\n",
       "      <td>1</td>\n",
       "      <td>0.0</td>\n",
       "      <td>10</td>\n",
       "      <td>0.0</td>\n",
       "      <td>0.0</td>\n",
       "      <td>14.0</td>\n",
       "      <td>0.0</td>\n",
       "      <td>1</td>\n",
       "      <td>0.0</td>\n",
       "    </tr>\n",
       "    <tr>\n",
       "      <th>4</th>\n",
       "      <td>(3-bromophenyl)acetic acid</td>\n",
       "      <td>1878-67-7</td>\n",
       "      <td>C8H7BrO2</td>\n",
       "      <td>C1=CC(=CC(=C1)Br)CC(=O)O</td>\n",
       "      <td>177.3</td>\n",
       "      <td>1698</td>\n",
       "      <td>4</td>\n",
       "      <td>1.0</td>\n",
       "      <td>8</td>\n",
       "      <td>0.0</td>\n",
       "      <td>0.0</td>\n",
       "      <td>7.0</td>\n",
       "      <td>0.0</td>\n",
       "      <td>2</td>\n",
       "      <td>0.0</td>\n",
       "    </tr>\n",
       "  </tbody>\n",
       "</table>\n",
       "</div>"
      ],
      "text/plain": [
       "                                Name         CAS   Formula  \\\n",
       "0          (+-)-2-chloropropionamide  27816-36-0  C3H6ClNO   \n",
       "1      (+-)-2-methylbutyryl chloride  57526-28-0   C5H9ClO   \n",
       "2  (+-)-mevalonic acid delta-lactone    674-26-0   C6H10O3   \n",
       "3                  (1R)-(-)-myrtenal    564-94-3   C10H14O   \n",
       "4         (3-bromophenyl)acetic acid   1878-67-7  C8H7BrO2   \n",
       "\n",
       "                     SMILES  Carbon  Infrared  Label   Br   C   Cl    F     H  \\\n",
       "0              CC(C(=O)N)Cl   172.9      1642      3  0.0   3  1.0  0.0   6.0   \n",
       "1             CCC(C)C(=O)Cl   177.5      1793      5  0.0   5  1.0  0.0   9.0   \n",
       "2          CC1(CCOC(=O)C1)O   171.5      1721      2  0.0   6  0.0  0.0  10.0   \n",
       "3     CC1(C2CC=C(C1C2)C=O)C   191.3      1679      1  0.0  10  0.0  0.0  14.0   \n",
       "4  C1=CC(=CC(=C1)Br)CC(=O)O   177.3      1698      4  1.0   8  0.0  0.0   7.0   \n",
       "\n",
       "     N  O    S  \n",
       "0  1.0  1  0.0  \n",
       "1  0.0  1  0.0  \n",
       "2  0.0  3  0.0  \n",
       "3  0.0  1  0.0  \n",
       "4  0.0  2  0.0  "
      ]
     },
     "execution_count": 5,
     "metadata": {},
     "output_type": "execute_result"
    }
   ],
   "source": [
    "new_df.head()"
   ]
  },
  {
   "cell_type": "code",
   "execution_count": 6,
   "metadata": {
    "collapsed": true
   },
   "outputs": [],
   "source": [
    "# Some feature engineering here\n",
    "new_df['Unsaturation'] = new_df['H']/new_df['C']"
   ]
  },
  {
   "cell_type": "code",
   "execution_count": 7,
   "metadata": {},
   "outputs": [
    {
     "data": {
      "text/html": [
       "<div>\n",
       "<style>\n",
       "    .dataframe thead tr:only-child th {\n",
       "        text-align: right;\n",
       "    }\n",
       "\n",
       "    .dataframe thead th {\n",
       "        text-align: left;\n",
       "    }\n",
       "\n",
       "    .dataframe tbody tr th {\n",
       "        vertical-align: top;\n",
       "    }\n",
       "</style>\n",
       "<table border=\"1\" class=\"dataframe\">\n",
       "  <thead>\n",
       "    <tr style=\"text-align: right;\">\n",
       "      <th></th>\n",
       "      <th>Name</th>\n",
       "      <th>CAS</th>\n",
       "      <th>Formula</th>\n",
       "      <th>SMILES</th>\n",
       "      <th>Carbon</th>\n",
       "      <th>Infrared</th>\n",
       "      <th>Label</th>\n",
       "      <th>Br</th>\n",
       "      <th>C</th>\n",
       "      <th>Cl</th>\n",
       "      <th>F</th>\n",
       "      <th>H</th>\n",
       "      <th>N</th>\n",
       "      <th>O</th>\n",
       "      <th>S</th>\n",
       "      <th>Unsaturation</th>\n",
       "    </tr>\n",
       "  </thead>\n",
       "  <tbody>\n",
       "    <tr>\n",
       "      <th>0</th>\n",
       "      <td>(+-)-2-chloropropionamide</td>\n",
       "      <td>27816-36-0</td>\n",
       "      <td>C3H6ClNO</td>\n",
       "      <td>CC(C(=O)N)Cl</td>\n",
       "      <td>172.9</td>\n",
       "      <td>1642</td>\n",
       "      <td>3</td>\n",
       "      <td>0.0</td>\n",
       "      <td>3</td>\n",
       "      <td>1.0</td>\n",
       "      <td>0.0</td>\n",
       "      <td>6.0</td>\n",
       "      <td>1.0</td>\n",
       "      <td>1</td>\n",
       "      <td>0.0</td>\n",
       "      <td>2.000000</td>\n",
       "    </tr>\n",
       "    <tr>\n",
       "      <th>1</th>\n",
       "      <td>(+-)-2-methylbutyryl chloride</td>\n",
       "      <td>57526-28-0</td>\n",
       "      <td>C5H9ClO</td>\n",
       "      <td>CCC(C)C(=O)Cl</td>\n",
       "      <td>177.5</td>\n",
       "      <td>1793</td>\n",
       "      <td>5</td>\n",
       "      <td>0.0</td>\n",
       "      <td>5</td>\n",
       "      <td>1.0</td>\n",
       "      <td>0.0</td>\n",
       "      <td>9.0</td>\n",
       "      <td>0.0</td>\n",
       "      <td>1</td>\n",
       "      <td>0.0</td>\n",
       "      <td>1.800000</td>\n",
       "    </tr>\n",
       "    <tr>\n",
       "      <th>2</th>\n",
       "      <td>(+-)-mevalonic acid delta-lactone</td>\n",
       "      <td>674-26-0</td>\n",
       "      <td>C6H10O3</td>\n",
       "      <td>CC1(CCOC(=O)C1)O</td>\n",
       "      <td>171.5</td>\n",
       "      <td>1721</td>\n",
       "      <td>2</td>\n",
       "      <td>0.0</td>\n",
       "      <td>6</td>\n",
       "      <td>0.0</td>\n",
       "      <td>0.0</td>\n",
       "      <td>10.0</td>\n",
       "      <td>0.0</td>\n",
       "      <td>3</td>\n",
       "      <td>0.0</td>\n",
       "      <td>1.666667</td>\n",
       "    </tr>\n",
       "    <tr>\n",
       "      <th>3</th>\n",
       "      <td>(1R)-(-)-myrtenal</td>\n",
       "      <td>564-94-3</td>\n",
       "      <td>C10H14O</td>\n",
       "      <td>CC1(C2CC=C(C1C2)C=O)C</td>\n",
       "      <td>191.3</td>\n",
       "      <td>1679</td>\n",
       "      <td>1</td>\n",
       "      <td>0.0</td>\n",
       "      <td>10</td>\n",
       "      <td>0.0</td>\n",
       "      <td>0.0</td>\n",
       "      <td>14.0</td>\n",
       "      <td>0.0</td>\n",
       "      <td>1</td>\n",
       "      <td>0.0</td>\n",
       "      <td>1.400000</td>\n",
       "    </tr>\n",
       "    <tr>\n",
       "      <th>4</th>\n",
       "      <td>(3-bromophenyl)acetic acid</td>\n",
       "      <td>1878-67-7</td>\n",
       "      <td>C8H7BrO2</td>\n",
       "      <td>C1=CC(=CC(=C1)Br)CC(=O)O</td>\n",
       "      <td>177.3</td>\n",
       "      <td>1698</td>\n",
       "      <td>4</td>\n",
       "      <td>1.0</td>\n",
       "      <td>8</td>\n",
       "      <td>0.0</td>\n",
       "      <td>0.0</td>\n",
       "      <td>7.0</td>\n",
       "      <td>0.0</td>\n",
       "      <td>2</td>\n",
       "      <td>0.0</td>\n",
       "      <td>0.875000</td>\n",
       "    </tr>\n",
       "  </tbody>\n",
       "</table>\n",
       "</div>"
      ],
      "text/plain": [
       "                                Name         CAS   Formula  \\\n",
       "0          (+-)-2-chloropropionamide  27816-36-0  C3H6ClNO   \n",
       "1      (+-)-2-methylbutyryl chloride  57526-28-0   C5H9ClO   \n",
       "2  (+-)-mevalonic acid delta-lactone    674-26-0   C6H10O3   \n",
       "3                  (1R)-(-)-myrtenal    564-94-3   C10H14O   \n",
       "4         (3-bromophenyl)acetic acid   1878-67-7  C8H7BrO2   \n",
       "\n",
       "                     SMILES  Carbon  Infrared  Label   Br   C   Cl    F     H  \\\n",
       "0              CC(C(=O)N)Cl   172.9      1642      3  0.0   3  1.0  0.0   6.0   \n",
       "1             CCC(C)C(=O)Cl   177.5      1793      5  0.0   5  1.0  0.0   9.0   \n",
       "2          CC1(CCOC(=O)C1)O   171.5      1721      2  0.0   6  0.0  0.0  10.0   \n",
       "3     CC1(C2CC=C(C1C2)C=O)C   191.3      1679      1  0.0  10  0.0  0.0  14.0   \n",
       "4  C1=CC(=CC(=C1)Br)CC(=O)O   177.3      1698      4  1.0   8  0.0  0.0   7.0   \n",
       "\n",
       "     N  O    S  Unsaturation  \n",
       "0  1.0  1  0.0      2.000000  \n",
       "1  0.0  1  0.0      1.800000  \n",
       "2  0.0  3  0.0      1.666667  \n",
       "3  0.0  1  0.0      1.400000  \n",
       "4  0.0  2  0.0      0.875000  "
      ]
     },
     "execution_count": 7,
     "metadata": {},
     "output_type": "execute_result"
    }
   ],
   "source": [
    "new_df.head()"
   ]
  },
  {
   "cell_type": "code",
   "execution_count": 8,
   "metadata": {
    "collapsed": true
   },
   "outputs": [],
   "source": [
    "features = ['Carbon', 'Infrared', 'C', 'H', 'N', 'O', 'S', 'Cl', 'F', 'Br', 'Unsaturation']"
   ]
  },
  {
   "cell_type": "code",
   "execution_count": 9,
   "metadata": {
    "collapsed": true
   },
   "outputs": [],
   "source": [
    "# Create a randomized 80/20 training/test Split\n",
    "carb_train, carb_test = sk.model_selection.train_test_split(new_df, test_size = 0.2)\n",
    "\n",
    "# calculate mean normalization w/ unit variance on training set\n",
    "std_scale = sk.preprocessing.StandardScaler().fit(carb_train[features])\n",
    "\n",
    "# apply to create standardized training and test sets with labels\n",
    "train_std = std_scale.transform(carb_train[features])\n",
    "test_std = std_scale.transform(carb_test[features])\n",
    "train_labels = np.array(carb_train['Label'])\n",
    "test_labels = np.array(carb_test['Label'])"
   ]
  },
  {
   "cell_type": "code",
   "execution_count": 10,
   "metadata": {},
   "outputs": [
    {
     "data": {
      "image/png": "[encoded data removed]",
      "text/plain": [
       "<matplotlib.figure.Figure at 0x118d107f0>"
      ]
     },
     "metadata": {},
     "output_type": "display_data"
    },
    {
     "name": "stdout",
     "output_type": "stream",
     "text": [
      "Random Forest Out of Bag (OOB) Score : 0.933\n",
      "Random Forest Test Set Score : 0.833\n"
     ]
    }
   ],
   "source": [
    "# train the RF classifier\n",
    "forest = RandomForestClassifier(n_jobs=-1, n_estimators=100, oob_score=True, max_features=None)\n",
    "forest.fit(train_std, train_labels)\n",
    "\n",
    "# generate predictions and retrieve feature importances\n",
    "rfc_preds = np.array(forest.predict(test_std))\n",
    "rf_test_score = forest.score(test_std, test_labels)\n",
    "importances = forest.feature_importances_\n",
    "indices = np.argsort(importances)\n",
    "\n",
    "# plot confusion matrix and relative importance\n",
    "plt.subplots(1, 2, figsize=(12,4))\n",
    "plt.subplot(1, 2, 2)\n",
    "plt.title('Relative Features Value')\n",
    "plt.barh(range(len(indices)), importances[indices], color='b', align='center')\n",
    "plt.yticks(range(len(indices)), [features[i] for i in indices])\n",
    "plt.xlabel('Relative Importance')\n",
    "plt.tight_layout()\n",
    "\n",
    "plt.subplot(1, 2, 1)\n",
    "rfc_cn = confusion_matrix(test_labels, rfc_preds)\n",
    "plot_utils.plot_confusion_matrix(rfc_cn, LABEL_DICT.values(), \n",
    "                      pltTitle='Random Forest Confusion Matrix')\n",
    "plt.show()\n",
    "\n",
    "print(\"Random Forest Out of Bag (OOB) Score : %.3f\" % (forest.oob_score_))\n",
    "print(\"Random Forest Test Set Score : %.3f\" % (rf_test_score))"
   ]
  },
  {
   "cell_type": "markdown",
   "metadata": {},
   "source": [
    "Some improvement by including molecular formula."
   ]
  }
 ],
 "metadata": {
  "kernelspec": {
   "display_name": "Python 3",
   "language": "python",
   "name": "python3"
  },
  "language_info": {
   "codemirror_mode": {
    "name": "ipython",
    "version": 3
   },
   "file_extension": ".py",
   "mimetype": "text/x-python",
   "name": "python",
   "nbconvert_exporter": "python",
   "pygments_lexer": "ipython3",
   "version": "3.6.1"
  }
 },
 "nbformat": 4,
 "nbformat_minor": 2
}
